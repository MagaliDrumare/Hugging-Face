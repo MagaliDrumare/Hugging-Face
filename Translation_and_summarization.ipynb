{
  "cells": [
    {
      "cell_type": "markdown",
      "metadata": {
        "id": "view-in-github",
        "colab_type": "text"
      },
      "source": [
        "<a href=\"https://colab.research.google.com/github/MagaliDrumare/Hugging-Face/blob/main/Translation_and_summarization.ipynb\" target=\"_parent\"><img src=\"https://colab.research.google.com/assets/colab-badge.svg\" alt=\"Open In Colab\"/></a>"
      ]
    },
    {
      "cell_type": "code",
      "execution_count": 21,
      "metadata": {
        "colab": {
          "base_uri": "https://localhost:8080/"
        },
        "id": "yZ9hxaJkqk_x",
        "outputId": "bdfa6afb-5449-45fb-b274-e8a33d372cc4"
      },
      "outputs": [
        {
          "output_type": "stream",
          "name": "stdout",
          "text": [
            "Requirement already satisfied: transformers in /usr/local/lib/python3.10/dist-packages (4.41.2)\n",
            "Requirement already satisfied: filelock in /usr/local/lib/python3.10/dist-packages (from transformers) (3.15.1)\n",
            "Requirement already satisfied: huggingface-hub<1.0,>=0.23.0 in /usr/local/lib/python3.10/dist-packages (from transformers) (0.23.4)\n",
            "Requirement already satisfied: numpy>=1.17 in /usr/local/lib/python3.10/dist-packages (from transformers) (1.25.2)\n",
            "Requirement already satisfied: packaging>=20.0 in /usr/local/lib/python3.10/dist-packages (from transformers) (24.1)\n",
            "Requirement already satisfied: pyyaml>=5.1 in /usr/local/lib/python3.10/dist-packages (from transformers) (6.0.1)\n",
            "Requirement already satisfied: regex!=2019.12.17 in /usr/local/lib/python3.10/dist-packages (from transformers) (2024.5.15)\n",
            "Requirement already satisfied: requests in /usr/local/lib/python3.10/dist-packages (from transformers) (2.31.0)\n",
            "Requirement already satisfied: tokenizers<0.20,>=0.19 in /usr/local/lib/python3.10/dist-packages (from transformers) (0.19.1)\n",
            "Requirement already satisfied: safetensors>=0.4.1 in /usr/local/lib/python3.10/dist-packages (from transformers) (0.4.3)\n",
            "Requirement already satisfied: tqdm>=4.27 in /usr/local/lib/python3.10/dist-packages (from transformers) (4.66.4)\n",
            "Requirement already satisfied: fsspec>=2023.5.0 in /usr/local/lib/python3.10/dist-packages (from huggingface-hub<1.0,>=0.23.0->transformers) (2023.6.0)\n",
            "Requirement already satisfied: typing-extensions>=3.7.4.3 in /usr/local/lib/python3.10/dist-packages (from huggingface-hub<1.0,>=0.23.0->transformers) (4.12.2)\n",
            "Requirement already satisfied: charset-normalizer<4,>=2 in /usr/local/lib/python3.10/dist-packages (from requests->transformers) (3.3.2)\n",
            "Requirement already satisfied: idna<4,>=2.5 in /usr/local/lib/python3.10/dist-packages (from requests->transformers) (3.7)\n",
            "Requirement already satisfied: urllib3<3,>=1.21.1 in /usr/local/lib/python3.10/dist-packages (from requests->transformers) (2.0.7)\n",
            "Requirement already satisfied: certifi>=2017.4.17 in /usr/local/lib/python3.10/dist-packages (from requests->transformers) (2024.6.2)\n",
            "Requirement already satisfied: torch in /usr/local/lib/python3.10/dist-packages (2.3.0+cu121)\n",
            "Requirement already satisfied: filelock in /usr/local/lib/python3.10/dist-packages (from torch) (3.15.1)\n",
            "Requirement already satisfied: typing-extensions>=4.8.0 in /usr/local/lib/python3.10/dist-packages (from torch) (4.12.2)\n",
            "Requirement already satisfied: sympy in /usr/local/lib/python3.10/dist-packages (from torch) (1.12.1)\n",
            "Requirement already satisfied: networkx in /usr/local/lib/python3.10/dist-packages (from torch) (3.3)\n",
            "Requirement already satisfied: jinja2 in /usr/local/lib/python3.10/dist-packages (from torch) (3.1.4)\n",
            "Requirement already satisfied: fsspec in /usr/local/lib/python3.10/dist-packages (from torch) (2023.6.0)\n",
            "Requirement already satisfied: nvidia-cuda-nvrtc-cu12==12.1.105 in /usr/local/lib/python3.10/dist-packages (from torch) (12.1.105)\n",
            "Requirement already satisfied: nvidia-cuda-runtime-cu12==12.1.105 in /usr/local/lib/python3.10/dist-packages (from torch) (12.1.105)\n",
            "Requirement already satisfied: nvidia-cuda-cupti-cu12==12.1.105 in /usr/local/lib/python3.10/dist-packages (from torch) (12.1.105)\n",
            "Requirement already satisfied: nvidia-cudnn-cu12==8.9.2.26 in /usr/local/lib/python3.10/dist-packages (from torch) (8.9.2.26)\n",
            "Requirement already satisfied: nvidia-cublas-cu12==12.1.3.1 in /usr/local/lib/python3.10/dist-packages (from torch) (12.1.3.1)\n",
            "Requirement already satisfied: nvidia-cufft-cu12==11.0.2.54 in /usr/local/lib/python3.10/dist-packages (from torch) (11.0.2.54)\n",
            "Requirement already satisfied: nvidia-curand-cu12==10.3.2.106 in /usr/local/lib/python3.10/dist-packages (from torch) (10.3.2.106)\n",
            "Requirement already satisfied: nvidia-cusolver-cu12==11.4.5.107 in /usr/local/lib/python3.10/dist-packages (from torch) (11.4.5.107)\n",
            "Requirement already satisfied: nvidia-cusparse-cu12==12.1.0.106 in /usr/local/lib/python3.10/dist-packages (from torch) (12.1.0.106)\n",
            "Requirement already satisfied: nvidia-nccl-cu12==2.20.5 in /usr/local/lib/python3.10/dist-packages (from torch) (2.20.5)\n",
            "Requirement already satisfied: nvidia-nvtx-cu12==12.1.105 in /usr/local/lib/python3.10/dist-packages (from torch) (12.1.105)\n",
            "Requirement already satisfied: triton==2.3.0 in /usr/local/lib/python3.10/dist-packages (from torch) (2.3.0)\n",
            "Requirement already satisfied: nvidia-nvjitlink-cu12 in /usr/local/lib/python3.10/dist-packages (from nvidia-cusolver-cu12==11.4.5.107->torch) (12.5.40)\n",
            "Requirement already satisfied: MarkupSafe>=2.0 in /usr/local/lib/python3.10/dist-packages (from jinja2->torch) (2.1.5)\n",
            "Requirement already satisfied: mpmath<1.4.0,>=1.1.0 in /usr/local/lib/python3.10/dist-packages (from sympy->torch) (1.3.0)\n"
          ]
        }
      ],
      "source": [
        "    !pip install transformers\n",
        "    !pip install torch"
      ]
    },
    {
      "cell_type": "code",
      "execution_count": 22,
      "metadata": {
        "id": "pnvdWDFIsNd0"
      },
      "outputs": [],
      "source": [
        "from transformers.utils import logging\n",
        "logging.set_verbosity_error()"
      ]
    },
    {
      "cell_type": "code",
      "execution_count": 23,
      "metadata": {
        "id": "FO8mFwsfsQLh"
      },
      "outputs": [],
      "source": [
        "from transformers import pipeline\n",
        "import torch"
      ]
    },
    {
      "cell_type": "code",
      "execution_count": 24,
      "metadata": {
        "id": "h5gCQWrwsUYx"
      },
      "outputs": [],
      "source": [
        "translator = pipeline(task=\"translation\",\n",
        "                      model=\"facebook/nllb-200-distilled-600M\",\n",
        "                      torch_dtype=torch.bfloat16)"
      ]
    },
    {
      "cell_type": "code",
      "execution_count": 25,
      "metadata": {
        "id": "XTRI3wtAsa7z"
      },
      "outputs": [],
      "source": [
        "#text = \"\"\"\\\n",
        "#My puppy is adorable, \\\n",
        "#Your kitten is cute.\n",
        "#Her panda is friendly.\n",
        "#His llama is thoughtful. \\\n",
        "#We all have nice pets!\"\"\""
      ]
    },
    {
      "cell_type": "code",
      "execution_count": 26,
      "metadata": {
        "id": "V4IgyKdwsdtp"
      },
      "outputs": [],
      "source": [
        "#text_translated = translator(text,\n",
        "                             #src_lang=\"eng_Latn\",\n",
        "                             #tgt_lang=\"fra_Latn\")\n",
        "\n",
        "\n"
      ]
    },
    {
      "cell_type": "code",
      "execution_count": 27,
      "metadata": {
        "id": "vMBXXM5mvFCC"
      },
      "outputs": [],
      "source": [
        "text = \"\"\"\\\n",
        "Dans mon monde, je compte les secondes \\\n",
        "Je vois passer le jour, j'aimerais en faire le tour \\\n",
        "J'ai tous les mots qui collent à ma peau \\\n",
        "J'ai tant de choses à dire, mais si peur d'en souffrir.\n",
        "Est-ce qu'on m'entendra un jour? \\\n",
        "Est-ce qu'on m'entendra de loin? \\\n",
        "Est-ce qu'on m'attendra toujours? \\\n",
        "Est-ce qu'on m'aimera demain?.\n",
        "Être aimée pour de vrai \\\n",
        "Et puis tirer un trait \\\n",
        "Sur le passé douloureux \\\n",
        "Sur les larmes dans mes yeux.\n",
        "\"\"\""
      ]
    },
    {
      "cell_type": "code",
      "execution_count": 28,
      "metadata": {
        "id": "BMKJzNu7u9bE"
      },
      "outputs": [],
      "source": [
        "#text_translated = translator(text,\n",
        "                             #src_lang=\"fra_Latn\",\n",
        "                             #tgt_lang=\"eng_Latn\")"
      ]
    },
    {
      "cell_type": "code",
      "execution_count": 29,
      "metadata": {
        "id": "n0aEc4PmdFHU"
      },
      "outputs": [],
      "source": [
        "text_translated = translator(text,\n",
        "                             src_lang=\"fra_Latn\",\n",
        "                             tgt_lang=\"spa_Latn\")"
      ]
    },
    {
      "cell_type": "code",
      "execution_count": 30,
      "metadata": {
        "colab": {
          "base_uri": "https://localhost:8080/"
        },
        "id": "1hU31IDusg_C",
        "outputId": "129f6ae4-b2ba-4db3-a166-f94116c26c8f"
      },
      "outputs": [
        {
          "output_type": "execute_result",
          "data": {
            "text/plain": [
              "[{'translation_text': 'En mi mundo, cuento los segundos Veo el día pasar, me gustaría dar un giro por él Tengo todas las palabras que se pegan a mi piel Tengo muchas cosas que decir, pero tan miedo de sufrir. ¿Me oirán algún día? ¿Me oirán de lejos? ¿Me esperarán siempre? ¿Me amarán mañana? Ser amado de verdad y luego tirar un trazo sobre el pasado doloroso Sobre las lágrimas en mis ojos.'}]"
            ]
          },
          "metadata": {},
          "execution_count": 30
        }
      ],
      "source": [
        "text_translated"
      ]
    },
    {
      "cell_type": "code",
      "execution_count": null,
      "metadata": {
        "id": "mV1op8xGsj96"
      },
      "outputs": [],
      "source": [
        "import gc"
      ]
    },
    {
      "cell_type": "code",
      "execution_count": null,
      "metadata": {
        "id": "am2la_MGsqEV"
      },
      "outputs": [],
      "source": [
        "del translator"
      ]
    },
    {
      "cell_type": "code",
      "execution_count": null,
      "metadata": {
        "colab": {
          "base_uri": "https://localhost:8080/"
        },
        "id": "sfdHXRZ8st1g",
        "outputId": "0f5940c4-f3e1-4f53-84be-4d49945169dd"
      },
      "outputs": [
        {
          "data": {
            "text/plain": [
              "18"
            ]
          },
          "execution_count": 13,
          "metadata": {},
          "output_type": "execute_result"
        }
      ],
      "source": [
        "gc.collect()"
      ]
    },
    {
      "cell_type": "code",
      "execution_count": 31,
      "metadata": {
        "id": "qAYPUw2LsxWg"
      },
      "outputs": [],
      "source": [
        "summarizer = pipeline(task=\"summarization\",\n",
        "                      model=\"facebook/bart-large-cnn\",\n",
        "                      torch_dtype=torch.bfloat16)"
      ]
    },
    {
      "cell_type": "code",
      "execution_count": 32,
      "metadata": {
        "id": "Uhz89X1Ts34_"
      },
      "outputs": [],
      "source": [
        "text = \"\"\"Wolfgang Amadeus Mozart ou Johannes Chrysostomus Wolfgangus Theophilus Mozart1, né le 27 janvier 1756 à Salzbourg (Principauté archiépiscopale de Salzbourg) et mort le 5 décembre 1791 à Vienne, est un compositeur autrichien de la période classique. Il est considéré comme l'un des plus grands compositeurs de l'histoire de la musique européenne. Avec Joseph Haydn et Ludwig van Beethoven, il a porté à son apogée l'école classique viennoise.\n",
        "Enfant prodige et compositeur précoce, il est produit en public dès l'âge de sept ans à travers l'Europe où il subjugue les assistances avec sa sœur Maria Anna. Mort à trente-cinq ans, il laisse une œuvre considérable (893 œuvres sont répertoriées dans le catalogue Köchel).\n",
        "Selon le témoignage de ses contemporains, il était, au piano comme au violon, un virtuose. Il a écrit dans tous les genres musicaux de son époque et a excellé dans chacun d'eux. On reconnaît généralement qu'il a porté à un point de perfection le concerto, la symphonie et la sonate, et qu'il fut l'un des plus grands maîtres de l'opéra.\n",
        "Son succès ne s'est jamais démenti et son nom est passé dans le langage courant comme synonyme de talent, sinon de génie précoce\"\"\""
      ]
    },
    {
      "cell_type": "code",
      "execution_count": 33,
      "metadata": {
        "id": "tLAaPQpTsyzs"
      },
      "outputs": [],
      "source": [
        "summary = summarizer(text,\n",
        "                     min_length=10,\n",
        "                     max_length=500)"
      ]
    },
    {
      "cell_type": "code",
      "execution_count": 34,
      "metadata": {
        "id": "zmExWuUys-x4",
        "colab": {
          "base_uri": "https://localhost:8080/"
        },
        "outputId": "2b05afab-9277-4389-fe9d-67b6352c0a44"
      },
      "outputs": [
        {
          "output_type": "execute_result",
          "data": {
            "text/plain": [
              "[{'summary_text': \"Wolfgang Amadeus Mozart (1756 – 5 décembre 1791) est un compositeur autrichien de la période classique. Il est considéré comme l'un des plus grands compositeurs de l'histoire de la musique européenne.\"}]"
            ]
          },
          "metadata": {},
          "execution_count": 34
        }
      ],
      "source": [
        "summary"
      ]
    },
    {
      "cell_type": "code",
      "execution_count": 35,
      "metadata": {
        "id": "m5hEdsUWbcab"
      },
      "outputs": [],
      "source": [
        "text = \"\"\"Effets indésirables rares : peuvent affecter jusqu'à 1 personne sur 1 000\n",
        "\n",
        "· rougeur de la peau, éruption cutanée, urticaire. Il faut immédiatement arrêter le traitement, avertir votre médecin et ne plus jamais reprendre de médicaments contenant du paracétamol.\n",
        "\n",
        "· taches de sang sur la peau (purpura). Il faut immédiatement arrêter le traitement et avertir votre médecin. Le traitement pourra être réintroduit uniquement selon l’avis de votre médecin.\n",
        "\n",
        "Effets indésirables très rares : peuvent affecter jusqu'à 1 personne sur 10 000\n",
        "\n",
        "· réactions cutanées graves. Il faut immédiatement arrêter le traitement, avertir votre médecin et ne plus jamais reprendre de médicaments contenant du paracétamol.\n",
        "\n",
        "· modifications biologiques nécessitant un contrôle du bilan sanguin : taux anormalement bas de certains globules blancs (leucopénie, neutropénie) ou de certaines cellules du sang comme les plaquettes (thrombopénie) pouvant se traduire par des saignements de nez ou des gencives. Dans ce cas, consultez un médecin.\n",
        "\n",
        "Effets indésirables à fréquence indéterminée : la fréquence ne peut pas être estimée à partir des données disponibles\n",
        "\n",
        "· éruption ou rougeur cutanée ou réaction allergique pouvant se manifester par un brusque gonflement du visage et du cou pouvant entraîner une difficulté à respirer (œdème de Quincke) ou par un malaise brutal avec chute de la pression artérielle (choc anaphylactique). Il faut immédiatement arrêter le traitement, avertir votre médecin et ne plus jamais reprendre de médicaments contenant du paracétamol.\n",
        "\n",
        "· diarrhées, douleurs abdominales, anomalie du bilan hépatique, excès d'acide dans le sang causé par un excès d'acide pyroglutamique dû à un faible taux de glutathion.\n",
        "\n",
        "· éruption cutanée en plaques rouges arrondies avec démangeaison et sensation de brûlure laissant des tâches colorées et pouvant apparaître aux mêmes endroits en cas de reprise du médicament (érythème pigmenté fixe), difficulté à respirer (bronchospasme), notamment si vous avez déjà présenté des difficultés à respirer avec d’autre médicaments tels que les anti-inflammatoires non stéroïdiens ou l’acide acétylsalicylique. Dans ce cas, consultez un médecin.\"\"\""
      ]
    },
    {
      "cell_type": "code",
      "execution_count": 36,
      "metadata": {
        "id": "aElvVK0rbxDA"
      },
      "outputs": [],
      "source": [
        "summary = summarizer(text,\n",
        "                     min_length=10,\n",
        "                     max_length=500)"
      ]
    },
    {
      "cell_type": "code",
      "source": [
        "summary"
      ],
      "metadata": {
        "colab": {
          "base_uri": "https://localhost:8080/"
        },
        "id": "lv8JEezFjNtT",
        "outputId": "3d42b29c-91d8-411d-bf4f-ebd3b778e263"
      },
      "execution_count": 37,
      "outputs": [
        {
          "output_type": "execute_result",
          "data": {
            "text/plain": [
              "[{'summary_text': \"Effets indésirables rares : peuvent affecter jusqu'à 1 personne sur 1,000 people. Il faut immédiatement arrêter le traitement, avertir votre médecin and ne plus jamais reprendre de médicaments contenant du paracétamol.\"}]"
            ]
          },
          "metadata": {},
          "execution_count": 37
        }
      ]
    }
  ],
  "metadata": {
    "accelerator": "GPU",
    "colab": {
      "gpuType": "T4",
      "machine_shape": "hm",
      "provenance": [],
      "authorship_tag": "ABX9TyPRtv4Ajqux1qknFQsvYwwC",
      "include_colab_link": true
    },
    "kernelspec": {
      "display_name": "Python 3",
      "name": "python3"
    },
    "language_info": {
      "name": "python"
    }
  },
  "nbformat": 4,
  "nbformat_minor": 0
}